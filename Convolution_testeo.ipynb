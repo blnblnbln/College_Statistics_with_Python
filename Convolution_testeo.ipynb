{
  "cells": [
    {
      "cell_type": "markdown",
      "metadata": {
        "id": "view-in-github",
        "colab_type": "text"
      },
      "source": [
        "<a href=\"https://colab.research.google.com/github/blnblnbln/College_Statistics_with_Python/blob/main/Convolution_testeo.ipynb\" target=\"_parent\"><img src=\"https://colab.research.google.com/assets/colab-badge.svg\" alt=\"Open In Colab\"/></a>"
      ]
    },
    {
      "cell_type": "markdown",
      "metadata": {
        "id": "gQkieJv3K0fA"
      },
      "source": [
        "  Fase 1: Importar librerias"
      ]
    },
    {
      "cell_type": "code",
      "execution_count": null,
      "metadata": {
        "colab": {
          "base_uri": "https://localhost:8080/"
        },
        "id": "xve99Uz2GGRc",
        "outputId": "da65fefa-bf87-42c0-ffb2-469c401511aa"
      },
      "outputs": [
        {
          "output_type": "stream",
          "name": "stdout",
          "text": [
            "Mounted at /content/drive\n"
          ]
        }
      ],
      "source": [
        "#from google.colab import drive#conectar al drive con la información\n",
        "#drive.mount('/content/drive')\n"
      ]
    },
    {
      "cell_type": "code",
      "execution_count": null,
      "metadata": {
        "id": "xz7ajRPmWyiY"
      },
      "outputs": [],
      "source": []
    },
    {
      "cell_type": "code",
      "execution_count": null,
      "metadata": {
        "id": "pGT10jhoF_eY",
        "colab": {
          "base_uri": "https://localhost:8080/"
        },
        "outputId": "b5058fc9-9691-480b-a6dd-81ee2c4879c7"
      },
      "outputs": [
        {
          "output_type": "stream",
          "name": "stdout",
          "text": [
            "Looking in indexes: https://pypi.org/simple, https://us-python.pkg.dev/colab-wheels/public/simple/\n",
            "Collecting pyspeckit\n",
            "  Downloading pyspeckit-1.0.1.tar.gz (31.4 MB)\n",
            "\u001b[K     |████████████████████████████████| 31.4 MB 1.4 MB/s \n",
            "\u001b[?25hRequirement already satisfied: astropy in /usr/local/lib/python3.7/dist-packages (from pyspeckit) (4.3.1)\n",
            "Requirement already satisfied: numpy in /usr/local/lib/python3.7/dist-packages (from pyspeckit) (1.21.6)\n",
            "Requirement already satisfied: matplotlib>=1.4 in /usr/local/lib/python3.7/dist-packages (from pyspeckit) (3.2.2)\n",
            "Requirement already satisfied: kiwisolver>=1.0.1 in /usr/local/lib/python3.7/dist-packages (from matplotlib>=1.4->pyspeckit) (1.4.4)\n",
            "Requirement already satisfied: pyparsing!=2.0.4,!=2.1.2,!=2.1.6,>=2.0.1 in /usr/local/lib/python3.7/dist-packages (from matplotlib>=1.4->pyspeckit) (3.0.9)\n",
            "Requirement already satisfied: python-dateutil>=2.1 in /usr/local/lib/python3.7/dist-packages (from matplotlib>=1.4->pyspeckit) (2.8.2)\n",
            "Requirement already satisfied: cycler>=0.10 in /usr/local/lib/python3.7/dist-packages (from matplotlib>=1.4->pyspeckit) (0.11.0)\n",
            "Requirement already satisfied: typing-extensions in /usr/local/lib/python3.7/dist-packages (from kiwisolver>=1.0.1->matplotlib>=1.4->pyspeckit) (4.1.1)\n",
            "Requirement already satisfied: six>=1.5 in /usr/local/lib/python3.7/dist-packages (from python-dateutil>=2.1->matplotlib>=1.4->pyspeckit) (1.15.0)\n",
            "Requirement already satisfied: pyerfa>=1.7.3 in /usr/local/lib/python3.7/dist-packages (from astropy->pyspeckit) (2.0.0.1)\n",
            "Requirement already satisfied: importlib-metadata in /usr/local/lib/python3.7/dist-packages (from astropy->pyspeckit) (5.0.0)\n",
            "Requirement already satisfied: zipp>=0.5 in /usr/local/lib/python3.7/dist-packages (from importlib-metadata->astropy->pyspeckit) (3.8.1)\n",
            "Building wheels for collected packages: pyspeckit\n",
            "  Building wheel for pyspeckit (setup.py) ... \u001b[?25l\u001b[?25hdone\n",
            "  Created wheel for pyspeckit: filename=pyspeckit-1.0.1-py3-none-any.whl size=25335106 sha256=0feba6200792cccfd5cc2d4305a67a808e41bfd54ca6ec7bc4e6c631f09583bd\n",
            "  Stored in directory: /root/.cache/pip/wheels/30/75/d8/bfafb80a8acdbd1a61d89a8b15cf1dd66c1fc6518ea906561f\n",
            "Successfully built pyspeckit\n",
            "Installing collected packages: pyspeckit\n",
            "Successfully installed pyspeckit-1.0.1\n"
          ]
        }
      ],
      "source": [
        "import astropy\n",
        "import numpy as np\n",
        "import scipy\n",
        "import numpy\n",
        "#!pip install pyspeckit #una vez usado comentar esta linea de codigo\n",
        "import pyspeckit\n",
        "#import sedfitter\n",
        "import zipfile\n",
        "import os\n",
        "import re\n",
        "#from astropy.extern import six\n",
        "#from sedfitter.filter import Filter\n",
        "#from sedfitter import fit\n",
        "import matplotlib.pyplot as plt\n",
        "#from sklearn import preprocessing\n",
        "from astropy.table import QTable,Table,Column\n",
        "\n"
      ]
    },
    {
      "cell_type": "markdown",
      "metadata": {
        "id": "8ry3qMWCK-WP"
      },
      "source": [
        "Fase 2: Funciones\n"
      ]
    },
    {
      "cell_type": "code",
      "execution_count": null,
      "metadata": {
        "id": "5kUYV5N_LgAP"
      },
      "outputs": [],
      "source": [
        "def Filterdat(lista): #filtrar datos de directorios por \".dat\"\n",
        "    return [name for name in lista if re.search(r'dat', name)]\n",
        "\n",
        "def colxfil(mat): #en una tabla, o matriz, cambiar filas por columnas\n",
        "    num=[i for i in range(len(mat[0]))]\n",
        "    aux=[]\n",
        "    mat2=[]\n",
        "    for pos in num:\n",
        "        aux=[]\n",
        "        for lista in mat:\n",
        "            aux.append(lista[pos])\n",
        "        \n",
        "        mat2.append(aux)\n",
        "    return mat2\n",
        "\n",
        "#def norm(lista): #normalizacion de datos por preprocessing\n",
        "#    return preprocessing.normalize(lista)\n",
        "\n",
        "def norm(lista): #normalización de datos por maximos y minimos\n",
        "    a=[]\n",
        "    for f in lista:\n",
        "        a.append((f-min(lista))/(max(lista)-min(lista)))\n",
        "    return a\n",
        "\n",
        "\n",
        "def unique(lista): #devuelve una lista con datos unicos, los repetidos fuera\n",
        "    unicos=[]\n",
        "    for i in lista:\n",
        "        if i not in unicos:\n",
        "            unicos.append(i)\n",
        "    return unicos\n",
        "\n",
        "def recta(punto1,punto2,evaluar): #crea valores entre 2 puntos en funcion de un conjunto externo\n",
        "    x1=punto1[0]\n",
        "    y1=punto1[1]\n",
        "    x2=punto2[0]\n",
        "    y2=punto2[1]\n",
        "    if x2!=x1:\n",
        "        m=(y2-y1)/(x2-x1)\n",
        "    if x2==x1:\n",
        "        pass\n",
        "    c=y1-(m*x1)\n",
        "    return [(m*x)+c for x in evaluar]\n",
        "    \n",
        "\n",
        "def integrar(datos_entrada,datos_respuesta,limite_minimo,limite_maximo,cantidad_sumas): #terminado y por probar en datos reales\n",
        "\n",
        "    delta=(limite_maximo-limite_minimo)\n",
        "    divisiones=float(delta/cantidad_sumas)\n",
        "    \n",
        "    \n",
        "    dominio_1=float(limite_minimo)\n",
        "    dominio=[dominio_1]\n",
        "    aprox=len(str(cantidad_sumas))\n",
        "    while round(float(dominio_1),aprox)!=round(float(limite_maximo),aprox): #funciona generando las divisiones de base n, guardado en la lista dominio.\n",
        "        dominio_1+=divisiones\n",
        "        dominio.append(round(dominio_1,aprox))\n",
        "    #return dominio\n",
        "    \n",
        "    coordenadas=[]\n",
        "    for ejex,ejey in zip(datos_entrada,datos_respuesta): #guarda los conjuntos de coordendas que entran.\n",
        "        if ejex >= min(dominio) and ejex <= max(dominio):\n",
        "            for value in dominio:\n",
        "                if round(float(value))==float(ejex):\n",
        "                    coordenadas.append([ejex,ejey])\n",
        "    #return unique(coordenadas)\n",
        "    \n",
        "    coordenadas2=unique(coordenadas)\n",
        "    #indices=0\n",
        "    \n",
        "    valores=[]\n",
        "    dom=[]\n",
        "    respuestas=[]\n",
        "    \n",
        "    for contador in range(0,len(coordenadas2)-1): #correctamente se separan las rectas, y todos los valores en x tienen respuesta en el eje y.\n",
        "        datos_x=[]\n",
        "        puntos=[]\n",
        "        for valores in dominio:\n",
        "            puntos=[coordenadas2[contador],coordenadas2[contador+1]]\n",
        "            if valores>=coordenadas2[contador][0] and valores <=coordenadas2[contador+1][0]:\n",
        "                datos_x.append(valores)\n",
        "                \n",
        "        dom.append(datos_x)\n",
        "        aux=recta(puntos[0],puntos[1],datos_x)\n",
        "        respuestas.append(aux)    \n",
        "    #return (dom,respuestas)\n",
        "    salida=[]\n",
        "    for recta_x,recta_y in zip(dom,respuestas): #salida correcta.\n",
        "        c=0\n",
        "        aux=[]\n",
        "        while c!=(len(recta_x)-1):\n",
        "            base=recta_x[c+1]-recta_x[c]\n",
        "            altura=recta_y[c] ###revisar si el modelo creado sirve y para cual respuesta #c+1, acercamiento superior; c, acercamiento innferior.\n",
        "            aux.append(base*altura)\n",
        "            c+=1\n",
        "        salida.append(aux)\n",
        "    #return salida\n",
        "    \n",
        "    integrado=0\n",
        "    for lista in salida: #sumatoria final; integración.\n",
        "        integrado+=sum(lista)\n",
        "    return integrado\n",
        "  \n",
        "\n"
      ]
    },
    {
      "cell_type": "code",
      "execution_count": null,
      "metadata": {
        "id": "dO5pHt0Aw1F7"
      },
      "outputs": [],
      "source": [
        "def convolution(espectro,filtro,cantidad_sumas): #ingresan 2 tablas de 2 columnas y m,n filas cada uno, m y n pueden ser iguales o no\n",
        "    spectra_wl=[]\n",
        "    spectra_flux=[]\n",
        "    \n",
        "    for pair in espectro:\n",
        "        spectra_wl.append(pair[0])\n",
        "        spectra_flux.append(pair[1])\n",
        "        \n",
        "    filter_wl=[]\n",
        "    filter_flux=[]\n",
        "    filter_mixto=[]\n",
        "    for pair in filtro:\n",
        "        filter_wl.append(pair[0])\n",
        "        filter_flux.append(pair[1])\n",
        "        filter_mixto.append([pair[0],pair[1]])\n",
        "        \n",
        "    limite_maximo=max(filter_wl)\n",
        "    limite_minimo=min(filter_wl)\n",
        "    \n",
        "    delta=(limite_maximo-limite_minimo)\n",
        "    divisiones=float(delta/cantidad_sumas)\n",
        "\n",
        "    ##########################\n",
        "    #mismo dominio para ambos#\n",
        "    ##########################\n",
        "    dominio_1=float(limite_minimo)\n",
        "    dominio=[dominio_1]\n",
        "    aprox=len(str(cantidad_sumas))\n",
        "    while round(float(dominio_1),aprox)!=round(float(limite_maximo),aprox): #funciona generando las divisiones de base n, guardado en la lista dominio.\n",
        "        dominio_1+=divisiones\n",
        "        dominio.append(round(dominio_1,aprox))\n",
        "\n",
        "    #return max(dominio) #checked\n",
        "    \n",
        "    #################\n",
        "    #spectral coords#\n",
        "    #################\n",
        "    coords_spectra=[]\n",
        "    for ejex,ejey in zip(spectra_wl,spectra_flux): #guarda los conjuntos de coordendas que entran.\n",
        "        if ejex >= min(dominio) and ejex <= max(dominio):\n",
        "            for value in dominio:\n",
        "                if round(float(value),aprox)==round(float(ejex),aprox):\n",
        "                    coords_spectra.append([ejex,ejey])\n",
        "\n",
        "    coordenadas2=unique(coords_spectra)\n",
        "    spectra_limitada_wl=[pair[0] for pair in coordenadas2]\n",
        "    spectra_limitada_flux=[pair[1] for pair in coordenadas2]\n",
        "    \n",
        "    \n",
        "    \n",
        "    ###############\n",
        "    #filtro coords#\n",
        "    ###############\n",
        "    coords_filtro=[]\n",
        "    for ejex,ejey in zip(filter_wl,filter_flux):\n",
        "        for value in dominio:\n",
        "            if round(float(value),aprox)==round(float(ejex),aprox):\n",
        "                coords_filtro.append([ejex,ejey])\n",
        "                \n",
        "    coordenadas3=unique(coords_filtro)\n",
        "    filtro_limitada_wl=[pair[0] for pair in coordenadas3]\n",
        "    filtro_limitada_flux=[pair[1] for pair in coordenadas3]\n",
        "\n",
        "    \n",
        "    \n",
        "    ####################\n",
        "    #espectro respuesta#\n",
        "    ####################\n",
        "    S_wl=[]\n",
        "    S_respuestas=[]\n",
        "    for contador in range(0,len(coordenadas2)-1): #correctamente se separan las rectas, y todos los valores en x tienen respuesta en el eje y.\n",
        "        datos_x=[]\n",
        "        puntos=[]\n",
        "        for valores in dominio:\n",
        "            puntos=[coordenadas2[contador],coordenadas2[contador+1]]\n",
        "            if valores>=coordenadas2[contador][0] and valores <=coordenadas2[contador+1][0]:\n",
        "                datos_x.append(valores)   \n",
        "        S_wl.append(datos_x)\n",
        "        aux=recta(puntos[0],puntos[1],datos_x)\n",
        "        S_respuestas.append(aux)\n",
        "     \n",
        "    Swl_cont=[]\n",
        "    SR_cont=[]\n",
        "    for wl in S_wl:\n",
        "        Swl_cont+=wl\n",
        "    for rfl in S_respuestas:\n",
        "        SR_cont+=rfl\n",
        "        \n",
        "       \n",
        "    \n",
        "    ##################\n",
        "    #filtro respuesta#\n",
        "    ##################\n",
        "    F_wl=[]\n",
        "    F_respuestas=[]\n",
        "    for contador in range(0,len(coordenadas3)-1):\n",
        "        datos_x=[]\n",
        "        puntos=[]\n",
        "        for valores in dominio:\n",
        "            puntos=[coordenadas3[contador],coordenadas3[contador+1]]\n",
        "            if valores >= puntos[0][0] and valores <= puntos[1][0]:\n",
        "                datos_x.append(valores)\n",
        "        F_wl.append(datos_x)\n",
        "        aux2=recta(puntos[0],puntos[1],datos_x)\n",
        "        F_respuestas.append(aux2)\n",
        "    \n",
        "    Fwl_cont=[]\n",
        "    FR_cont=[]\n",
        "    for wl in F_wl:\n",
        "        Fwl_cont+=wl\n",
        "    for rfl in F_respuestas:\n",
        "        FR_cont+=rfl\n",
        "    \n",
        "    ###############################################################\n",
        "    #ver el minimo en el flujo para cada valor de longitud de onda#\n",
        "    ###############################################################\n",
        "    espectro_final=[]\n",
        "    for s,f in zip(SR_cont,FR_cont):\n",
        "        aux=min(s,f)\n",
        "        espectro_final.append(aux)\n",
        "    #return [Fwl_cont,FR_cont,espectro_final]\n",
        "\n",
        "\n",
        "    convol=[]\n",
        "    c=0\n",
        "    aux=[]\n",
        "    while c!=(len(Swl_cont)-1):\n",
        "        base=Swl_cont[c+1]-Swl_cont[c]\n",
        "        altura=espectro_final[c] ###revisar si el modelo creado sirve y para cual respuesta #c+1, acercamiento superior; c, acercamiento innferior.\n",
        "        convol.append(base*altura)\n",
        "        c+=1\n",
        "    convolucion=sum(convol)\n",
        "    return [dominio,espectro_final,convolucion]"
      ]
    },
    {
      "cell_type": "code",
      "execution_count": null,
      "metadata": {
        "colab": {
          "base_uri": "https://localhost:8080/"
        },
        "id": "vUhK0UK9KyRq",
        "outputId": "eded6fb6-5df7-440f-99bb-b8a4ccd553e6"
      },
      "outputs": [
        {
          "output_type": "stream",
          "name": "stdout",
          "text": [
            "['SC2', 'splus_filters-master']\n"
          ]
        }
      ],
      "source": [
        "\n",
        "print(os.listdir('drive/MyDrive/Taller_de_investigación'))\n",
        "HUB='drive/MyDrive/Taller_de_investigación' #usar como base para ir a los filtros o los espectros\n"
      ]
    },
    {
      "cell_type": "markdown",
      "metadata": {
        "id": "d78ulnn9LhDo"
      },
      "source": [
        "Fase 3: Filtros (datos y normalización)"
      ]
    },
    {
      "cell_type": "code",
      "execution_count": null,
      "metadata": {
        "id": "r965uVjuL7N6"
      },
      "outputs": [],
      "source": [
        "filtros=os.listdir(f'{HUB}/splus_filters-master')\n",
        "Filtros=(Filterdat(filtros))\n",
        "paths=[f'{HUB}/splus_filters-master/'+name for name in Filtros]\n",
        "#Filtros"
      ]
    },
    {
      "cell_type": "code",
      "execution_count": null,
      "metadata": {
        "id": "4JJdRCPwL7l4"
      },
      "outputs": [],
      "source": [
        "#identification of each filter\n",
        "Tablas_general_filtros=[]\n",
        "for value in paths:\n",
        "    auxiliar1=(astropy.io.ascii.read(value))\n",
        "    Tablas_general_filtros.append(auxiliar1) #12 tablas con datos de los filtros, col1: longitud de onda / col2: flujo\n",
        "#Tablas_general_filtros"
      ]
    },
    {
      "cell_type": "code",
      "execution_count": null,
      "metadata": {
        "colab": {
          "base_uri": "https://localhost:8080/",
          "height": 312
        },
        "id": "fwUc2g6nL7on",
        "outputId": "f384b511-b350-48af-968b-d68a2187fb0a"
      },
      "outputs": [
        {
          "data": {
            "text/plain": [
              "\"\\ncolors=['red','green','blue','cyan','magenta','brown','yellow','black','lightblue','pink','aquamarine','violet']\\npedido=''\\nwhile pedido!='YES' and pedido!='NO':\\n    try:\\n        pedido=str(input('Requires legend? >')).upper()\\n  \\n    except(ValueError):\\n        print('Formato incorrecto')\\n    \\nfor color,fil in zip(colors,Filtros):\\n    #print(color)\\n    xau=colors.index(color)\\n    plt.plot(np.log10(Tablas_general_filtros[xau]['col1']),Tablas_general_filtros[xau]['col2'],color)\\n    if pedido=='YES':\\n        plt.legend(Filtros)\\n    #print(xau)\\n    \\n    plt.title('SPLUS Filters')\\n    plt.xlabel('Wavelength [A]')\\n    plt.ylabel('Flux?')\\nplt.show()\\n\""
            ]
          },
          "execution_count": 139,
          "metadata": {},
          "output_type": "execute_result"
        }
      ],
      "source": [
        "#graficando filtros\n",
        "'''\n",
        "colors=['red','green','blue','cyan','magenta','brown','yellow','black','lightblue','pink','aquamarine','violet']\n",
        "pedido=''\n",
        "while pedido!='YES' and pedido!='NO':\n",
        "    try:\n",
        "        pedido=str(input('Requires legend? >')).upper()\n",
        "  \n",
        "    except(ValueError):\n",
        "        print('Formato incorrecto')\n",
        "    \n",
        "for color,fil in zip(colors,Filtros):\n",
        "    #print(color)\n",
        "    xau=colors.index(color)\n",
        "    plt.plot(np.log10(Tablas_general_filtros[xau]['col1']),Tablas_general_filtros[xau]['col2'],color)\n",
        "    if pedido=='YES':\n",
        "        plt.legend(Filtros)\n",
        "    #print(xau)\n",
        "    \n",
        "    plt.title('SPLUS Filters')\n",
        "    plt.xlabel('Wavelength [A]')\n",
        "    plt.ylabel('Flux?')\n",
        "plt.show()\n",
        "'''"
      ]
    },
    {
      "cell_type": "code",
      "execution_count": null,
      "metadata": {
        "id": "LTuweSQBP6Pn"
      },
      "outputs": [],
      "source": [
        "#Tabla continua/ Datos de filtros como una unica tabla\n",
        "Tabla_continua=Table()\n",
        "wave=[]\n",
        "flux=[]\n",
        "for table in Tablas_general_filtros:\n",
        "    for value in table['col1']:\n",
        "        wave.append(value)\n",
        "    for value in table['col2']:\n",
        "        flux.append(value)\n",
        "\n",
        "Tabla_continua['Wavelength']=wave\n",
        "Tabla_continua['Flux']=flux\n",
        "#Tabla_continua #tabla de datos mixtos de todos los filtros\n"
      ]
    },
    {
      "cell_type": "code",
      "execution_count": null,
      "metadata": {
        "id": "6CIiLVzCODwS",
        "colab": {
          "base_uri": "https://localhost:8080/"
        },
        "outputId": "364aa5e4-4b6f-4a19-b73e-f52e7c3e7987"
      },
      "outputs": [
        {
          "output_type": "execute_result",
          "data": {
            "text/plain": [
              "1619"
            ]
          },
          "metadata": {},
          "execution_count": 10
        }
      ],
      "source": [
        "#normalizar filtros\n",
        "Tabla_continua_normalizada=Table()\n",
        "maxi=max(Tabla_continua['Flux'])\n",
        "mini=min(Tabla_continua['Flux'])\n",
        "\n",
        "LogW=[]\n",
        "Nflux=[]\n",
        "\n",
        "for value in Tabla_continua:\n",
        "    auxiliar1=np.log10(value['Wavelength'])\n",
        "    auxiliar2=(value['Flux']-mini)/(maxi-mini)\n",
        "    LogW.append(auxiliar1)\n",
        "    Nflux.append(auxiliar2)\n",
        "\n",
        "Tabla_continua_normalizada['Log Wavelength']=LogW\n",
        "Tabla_continua_normalizada['Normalized Flux']=Nflux\n",
        "\n",
        "len(Tabla_continua_normalizada['Normalized Flux']) #tabla de datos mixtos, normalizada"
      ]
    },
    {
      "cell_type": "code",
      "execution_count": null,
      "metadata": {
        "id": "qy96xsmkOFpa"
      },
      "outputs": [],
      "source": [
        "#Separación normalizado\n",
        "Tablas_para_filtros=[Table() for i in range(len(Tablas_general_filtros))]\n",
        "contador=0\n",
        "c=0\n",
        "for par,tabla in zip(Tablas_general_filtros,Tablas_para_filtros):\n",
        "    contador=len(par)+c\n",
        "    auxiliar_alpha=[]\n",
        "    auxiliar_beta=[]\n",
        "    for datos in Tabla_continua_normalizada[c:contador]:\n",
        "        auxiliar_alpha.append(datos[0])\n",
        "        auxiliar_beta.append(datos[1])\n",
        "        c+=1\n",
        "  \n",
        "    tabla['Log Wavelength']=auxiliar_alpha\n",
        "    tabla['Normalized Flux']=auxiliar_beta\n",
        "#Tablas_para_filtros #contiene 12 tablas de los filtros bajo log y normalizados"
      ]
    },
    {
      "cell_type": "code",
      "execution_count": null,
      "metadata": {
        "id": "cB8--UGYUSu8",
        "colab": {
          "base_uri": "https://localhost:8080/"
        },
        "outputId": "4576e799-4582-4162-b0a5-33613344e3b0"
      },
      "outputs": [
        {
          "output_type": "execute_result",
          "data": {
            "text/plain": [
              "1619"
            ]
          },
          "metadata": {},
          "execution_count": 12
        }
      ],
      "source": [
        "o=0\n",
        "for tab in (Tablas_para_filtros):\n",
        "    o+=(len(tab['Normalized Flux']))\n",
        "o"
      ]
    },
    {
      "cell_type": "markdown",
      "metadata": {
        "id": "k9dJ37V3XM0e"
      },
      "source": [
        "Fase 4: Espectros (data y normalización)"
      ]
    },
    {
      "cell_type": "code",
      "execution_count": null,
      "metadata": {
        "colab": {
          "base_uri": "https://localhost:8080/"
        },
        "id": "XJ8bz8bbXSp9",
        "outputId": "448ab7f5-3f8b-4352-9582-a399d0331600"
      },
      "outputs": [
        {
          "name": "stdout",
          "output_type": "stream",
          "text": [
            "The options are: \n",
            "fig1\n",
            "fig15\n",
            "fig2\n",
            "fig25\n",
            "fig27\n",
            "fig7\n",
            "fig9\n",
            "File name: >fig1\n",
            "['fig1a.dat.txt', 'fig1b.dat.txt', 'fig1c.dat.txt', 'fig1d.dat.txt', 'fig1e.dat.txt']\n",
            "Options:\n",
            "for fig1A, mark A\n",
            "for fig1B, mark B\n",
            "for fig1C, mark C\n",
            "for fig1D, mark D\n",
            "for fig1E, mark E\n",
            "Which file would you want to open? >a\n"
          ]
        }
      ],
      "source": [
        "datos=os.listdir(f'{HUB}/SC2')\n",
        "datos=sorted(datos[1:len(datos)])\n",
        "\n",
        "\n",
        "search2=''\n",
        "while search2 not in datos:\n",
        "    print(f'The options are: ')\n",
        "    for value in datos:\n",
        "        print(f'{value}')\n",
        "    search2=str(input('File name: >'))\n",
        "    if search2 in datos:\n",
        "        pass\n",
        "\n",
        "aux0=sorted(os.listdir(f'{HUB}/SC2/{search2}'))\n",
        "dts=[]\n",
        "for value in aux0:\n",
        "    if value=='.DS_Store':\n",
        "        continue\n",
        "    dts.append(value)\n",
        "\n",
        "\n",
        "subdatos=dts\n",
        "\n",
        "print(subdatos)\n",
        "ind=[subdatos.index(i)+65 for i in subdatos]\n",
        "ltr=[chr(number) for number in ind]\n",
        "names=[f'{search2}{letra}' for letra in ltr]\n",
        "\n",
        "\n",
        "search3=''\n",
        "while search3 not in ltr:\n",
        "    print('Options:')\n",
        "    for value,lt in zip(names,ltr):\n",
        "        print(f'for {value}, mark {lt}')\n",
        "    try:\n",
        "        search3=str(input('Which file would you want to open? >')).upper()\n",
        "    except(ValueError):\n",
        "        pass\n",
        "    \n",
        "ind2=ltr.index(search3)\n",
        "topen=f'{HUB}/SC2/{search2}/{subdatos[ind2]}'"
      ]
    },
    {
      "cell_type": "code",
      "execution_count": null,
      "metadata": {
        "colab": {
          "base_uri": "https://localhost:8080/"
        },
        "id": "IDUi4Uu7XS46",
        "outputId": "3ee715fb-e1b7-47d2-8196-613629ad7332"
      },
      "outputs": [
        {
          "output_type": "stream",
          "name": "stdout",
          "text": [
            "drive/MyDrive/Taller_de_investigación/SC2/fig1/fig1a.dat.txt\n"
          ]
        }
      ],
      "source": [
        "alpha=[]\n",
        "print(topen)\n",
        "with open(topen,'r') as datos:\n",
        "    line=datos.readlines()\n",
        "    for linea in line:\n",
        "        alpha.append(linea.split())\n",
        "        \n",
        "columns=(alpha[2][1:])\n",
        "ages=columns[1:]\n",
        "\n",
        "totaldatos=alpha[3:]\n",
        "test001=colxfil(totaldatos)\n",
        "\n",
        "wavelength=[(aux[0]) for aux in totaldatos]\n",
        "\n",
        "por_longitud=[(aux[1:]) for aux in totaldatos] #usar este\n",
        "por_edad=colxfil(por_longitud)\n",
        "#print(por_longitud[0])\n",
        "#print(por_edad[0])"
      ]
    },
    {
      "cell_type": "code",
      "execution_count": null,
      "metadata": {
        "id": "HFv5ypPpXnaF"
      },
      "outputs": [],
      "source": [
        "#Log y Normalizando el espectro\n",
        "longitudes=[np.log10(float(val)) for val in wavelength]\n",
        "\n",
        "por_longflout=[]\n",
        "\n",
        "for lista in por_longitud:\n",
        "    por_longflin=[]\n",
        "    for value in lista:\n",
        "        por_longflin.append((float(value)))\n",
        "    por_longflout.append(por_longflin)\n",
        "\n",
        "por_edadflout=[]\n",
        "\n",
        "for lista in por_edad:\n",
        "    por_edadflin=[]\n",
        "    for value in lista:\n",
        "        por_edadflin.append((float(value)))\n",
        "\n",
        "    por_edadflout.append(por_edadflin)\n",
        "Norm_spectra=[norm(edad) for edad in por_edadflout]\n"
      ]
    },
    {
      "cell_type": "code",
      "execution_count": null,
      "metadata": {
        "id": "md0HCuIQafHm"
      },
      "outputs": [],
      "source": [
        "Tabla_espectro_final=Table()\n",
        "\n",
        "Tabla_espectro_final['Log WL']=longitudes\n",
        "for names,Nedad in zip(columns[1:],Norm_spectra):\n",
        "    Tabla_espectro_final[f'{names}']=Nedad"
      ]
    },
    {
      "cell_type": "code",
      "execution_count": null,
      "metadata": {
        "colab": {
          "base_uri": "https://localhost:8080/",
          "height": 539
        },
        "id": "-KFTYuQVagi6",
        "outputId": "456bb521-af1d-4a96-8a6e-2a28635aca30"
      },
      "outputs": [
        {
          "output_type": "execute_result",
          "data": {
            "text/plain": [
              "<Table length=1221>\n",
              "      Log WL               1Myr         ...       900Myr      \n",
              "     float64             float64        ...      float64      \n",
              "------------------ -------------------- ... ------------------\n",
              "1.9590413923210936                  0.0 ...                0.0\n",
              "1.9731278535996986 0.026544527601966503 ...                0.0\n",
              "1.9822712330395684  0.05193849110792492 ...                0.0\n",
              "1.9912260756924949   0.0669591935471427 ...                0.0\n",
              "               2.0   0.0840661199650423 ...                0.0\n",
              "2.0086001717619175  0.10505124087896929 ...                0.0\n",
              "2.0170333392987803  0.11994906219107525 ...                0.0\n",
              "2.0253058652647704  0.13435756314051098 ...                0.0\n",
              "  2.03342375548695  0.15071838621262734 ...                0.0\n",
              " 2.041392685158225   0.1710813869807722 ...                0.0\n",
              "               ...                  ... ...                ...\n",
              " 4.999130541287371   0.7553310020818157 ... 0.9266250779592387\n",
              " 5.000867721531227   0.7553254917173714 ... 0.9264920771475225\n",
              " 5.301029995663981   0.7539974938862506 ... 0.9031926462891401\n",
              "5.6020599913279625   0.7511761872906749 ... 0.8796291725821667\n",
              " 5.778151250383644    0.747980726949319 ... 0.8657794591901015\n",
              " 5.903089986991944   0.7442915379537374 ... 0.8559299557786991\n",
              "               6.0   0.7399284313865951 ... 0.8482809400238812\n",
              " 6.079181246047625   0.7345883372034461 ... 0.8420238296712078\n",
              " 6.146128035678238   0.7277036878665081 ... 0.8367314159278166\n",
              " 6.204119982655925   0.7180004871162171 ... 0.8321451405146719"
            ],
            "text/html": [
              "<div><i>Table length=1221</i>\n",
              "<table id=\"table139626992521552\" class=\"table-striped table-bordered table-condensed\">\n",
              "<thead><tr><th>Log WL</th><th>1Myr</th><th>2Myr</th><th>3Myr</th><th>4Myr</th><th>5Myr</th><th>6Myr</th><th>7Myr</th><th>8Myr</th><th>9Myr</th><th>10Myr</th><th>11Myr</th><th>12Myr</th><th>13Myr</th><th>14Myr</th><th>15Myr</th><th>16Myr</th><th>17Myr</th><th>18Myr</th><th>19Myr</th><th>20Myr</th><th>30Myr</th><th>40Myr</th><th>50Myr</th><th>60Myr</th><th>70Myr</th><th>80Myr</th><th>90Myr</th><th>100Myr</th><th>200Myr</th><th>300Myr</th><th>400Myr</th><th>500Myr</th><th>600Myr</th><th>700Myr</th><th>800Myr</th><th>900Myr</th></tr></thead>\n",
              "<thead><tr><th>float64</th><th>float64</th><th>float64</th><th>float64</th><th>float64</th><th>float64</th><th>float64</th><th>float64</th><th>float64</th><th>float64</th><th>float64</th><th>float64</th><th>float64</th><th>float64</th><th>float64</th><th>float64</th><th>float64</th><th>float64</th><th>float64</th><th>float64</th><th>float64</th><th>float64</th><th>float64</th><th>float64</th><th>float64</th><th>float64</th><th>float64</th><th>float64</th><th>float64</th><th>float64</th><th>float64</th><th>float64</th><th>float64</th><th>float64</th><th>float64</th><th>float64</th><th>float64</th></tr></thead>\n",
              "<tr><td>1.9590413923210936</td><td>0.0</td><td>0.0</td><td>0.0</td><td>0.7064498909788385</td><td>0.6904302082955798</td><td>0.7781325236326739</td><td>0.0</td><td>0.0</td><td>0.0</td><td>0.0</td><td>0.0</td><td>0.0</td><td>0.0</td><td>0.0</td><td>0.0</td><td>0.0</td><td>0.0</td><td>0.0</td><td>0.0</td><td>0.0</td><td>0.0</td><td>0.0</td><td>0.0</td><td>0.0</td><td>0.0</td><td>0.0</td><td>0.0</td><td>0.0</td><td>0.0</td><td>0.0</td><td>0.0</td><td>0.0</td><td>0.0</td><td>0.0</td><td>0.0</td><td>0.0</td></tr>\n",
              "<tr><td>1.9731278535996986</td><td>0.026544527601966503</td><td>0.02583450439827166</td><td>0.02714922671756532</td><td>0.7202308896307762</td><td>0.7014481798083243</td><td>0.7893730262677919</td><td>0.0</td><td>0.0</td><td>0.0</td><td>0.0</td><td>0.0</td><td>0.0</td><td>0.0</td><td>0.0</td><td>0.0</td><td>0.0</td><td>0.0</td><td>0.0</td><td>0.0</td><td>0.0</td><td>0.0</td><td>0.0</td><td>0.0</td><td>0.0</td><td>0.0</td><td>0.0</td><td>0.0</td><td>0.0</td><td>0.0</td><td>0.0</td><td>0.0</td><td>0.0</td><td>0.0</td><td>0.0</td><td>0.0</td><td>0.0</td></tr>\n",
              "<tr><td>1.9822712330395684</td><td>0.05193849110792492</td><td>0.050601953419034805</td><td>0.05329737295205908</td><td>0.72996408182468</td><td>0.7093216112057473</td><td>0.7973826009317578</td><td>0.0</td><td>0.0</td><td>0.0</td><td>0.0</td><td>0.0</td><td>0.0</td><td>0.0</td><td>0.0</td><td>0.0</td><td>0.0</td><td>0.0</td><td>0.0</td><td>0.0</td><td>0.0</td><td>0.0</td><td>0.0</td><td>0.0</td><td>0.0</td><td>0.0</td><td>0.0</td><td>0.0</td><td>0.0</td><td>0.0</td><td>0.0</td><td>0.0</td><td>0.0</td><td>0.0</td><td>0.0</td><td>0.0</td><td>0.0</td></tr>\n",
              "<tr><td>1.9912260756924949</td><td>0.0669591935471427</td><td>0.06519974890652103</td><td>0.06855672688092956</td><td>0.73857720598214</td><td>0.7163424614742059</td><td>0.8045166983390245</td><td>0.0</td><td>0.0</td><td>0.0</td><td>0.0</td><td>0.0</td><td>0.0</td><td>0.0</td><td>0.0</td><td>0.0</td><td>0.0</td><td>0.0</td><td>0.0</td><td>0.0</td><td>0.0</td><td>0.0</td><td>0.0</td><td>0.0</td><td>0.0</td><td>0.0</td><td>0.0</td><td>0.0</td><td>0.0</td><td>0.0</td><td>0.0</td><td>0.0</td><td>0.0</td><td>0.0</td><td>0.0</td><td>0.0</td><td>0.0</td></tr>\n",
              "<tr><td>2.0</td><td>0.0840661199650423</td><td>0.08189259412099352</td><td>0.08621601455232895</td><td>0.7444598250232971</td><td>0.720848715174046</td><td>0.8090955833562035</td><td>0.0</td><td>0.0</td><td>0.0</td><td>0.0</td><td>0.0</td><td>0.0</td><td>0.0</td><td>0.0</td><td>0.0</td><td>0.0</td><td>0.0</td><td>0.0</td><td>0.0</td><td>0.0</td><td>0.0</td><td>0.0</td><td>0.0</td><td>0.0</td><td>0.0</td><td>0.0</td><td>0.0</td><td>0.0</td><td>0.0</td><td>0.0</td><td>0.0</td><td>0.0</td><td>0.0</td><td>0.0</td><td>0.0</td><td>0.0</td></tr>\n",
              "<tr><td>2.0086001717619175</td><td>0.10505124087896929</td><td>0.10236011326779036</td><td>0.10778464498304817</td><td>0.7484497281256504</td><td>0.723725745016111</td><td>0.8120190520526814</td><td>0.0</td><td>0.0</td><td>0.0</td><td>0.0</td><td>0.0</td><td>0.0</td><td>0.0</td><td>0.0</td><td>0.0</td><td>0.0</td><td>0.0</td><td>0.0</td><td>0.0</td><td>0.0</td><td>0.0</td><td>0.0</td><td>0.0</td><td>0.0</td><td>0.0</td><td>0.0</td><td>0.0</td><td>0.0</td><td>0.0</td><td>0.0</td><td>0.0</td><td>0.0</td><td>0.0</td><td>0.0</td><td>0.0</td><td>0.0</td></tr>\n",
              "<tr><td>2.0170333392987803</td><td>0.11994906219107525</td><td>0.11695744921377037</td><td>0.12323319742446881</td><td>0.7493653249373469</td><td>0.7239863517984463</td><td>0.8122796107600323</td><td>0.0</td><td>0.0</td><td>0.0</td><td>0.0</td><td>0.0</td><td>0.0</td><td>0.0</td><td>0.0</td><td>0.0</td><td>0.0</td><td>0.0</td><td>0.0</td><td>0.0</td><td>0.0</td><td>0.0</td><td>0.0</td><td>0.0</td><td>0.0</td><td>0.0</td><td>0.0</td><td>0.0</td><td>0.0</td><td>0.0</td><td>0.0</td><td>0.0</td><td>0.0</td><td>0.0</td><td>0.0</td><td>0.0</td><td>0.0</td></tr>\n",
              "<tr><td>2.0253058652647704</td><td>0.13435756314051098</td><td>0.13109156732145205</td><td>0.13818063974931574</td><td>0.7500999737625426</td><td>0.7239501084711012</td><td>0.8122118654961206</td><td>0.0</td><td>0.0</td><td>0.0</td><td>0.0</td><td>0.0</td><td>0.0</td><td>0.0</td><td>0.0</td><td>0.0</td><td>0.0</td><td>0.0</td><td>0.0</td><td>0.0</td><td>0.0</td><td>0.0</td><td>0.0</td><td>0.0</td><td>0.0</td><td>0.0</td><td>0.0</td><td>0.0</td><td>0.0</td><td>0.0</td><td>0.0</td><td>0.0</td><td>0.0</td><td>0.0</td><td>0.0</td><td>0.0</td><td>0.0</td></tr>\n",
              "<tr><td>2.03342375548695</td><td>0.15071838621262734</td><td>0.1471355399291019</td><td>0.15514961879159142</td><td>0.7507314822354318</td><td>0.7240433055985588</td><td>0.8122743995858849</td><td>0.0</td><td>0.0</td><td>0.0</td><td>0.0</td><td>0.0</td><td>0.0</td><td>0.0</td><td>0.0</td><td>0.0</td><td>0.0</td><td>0.0</td><td>0.0</td><td>0.0</td><td>0.0</td><td>0.0</td><td>0.0</td><td>0.0</td><td>0.0</td><td>0.0</td><td>0.0</td><td>0.0</td><td>0.0</td><td>0.0</td><td>0.0</td><td>0.0</td><td>0.0</td><td>0.0</td><td>0.0</td><td>0.0</td><td>0.0</td></tr>\n",
              "<tr><td>2.041392685158225</td><td>0.1710813869807722</td><td>0.1671104305812005</td><td>0.17620802110513203</td><td>0.7515023206579264</td><td>0.7243729472901216</td><td>0.8125992294410485</td><td>0.0</td><td>0.0</td><td>0.0</td><td>0.0</td><td>0.0</td><td>0.0</td><td>0.0</td><td>0.0</td><td>0.0</td><td>0.0</td><td>0.0</td><td>0.0</td><td>0.0</td><td>0.0</td><td>0.0</td><td>0.0</td><td>0.0</td><td>0.0</td><td>0.0</td><td>0.0</td><td>0.0</td><td>0.0</td><td>0.0</td><td>0.0</td><td>0.0</td><td>0.0</td><td>0.0</td><td>0.0</td><td>0.0</td><td>0.0</td></tr>\n",
              "<tr><td>...</td><td>...</td><td>...</td><td>...</td><td>...</td><td>...</td><td>...</td><td>...</td><td>...</td><td>...</td><td>...</td><td>...</td><td>...</td><td>...</td><td>...</td><td>...</td><td>...</td><td>...</td><td>...</td><td>...</td><td>...</td><td>...</td><td>...</td><td>...</td><td>...</td><td>...</td><td>...</td><td>...</td><td>...</td><td>...</td><td>...</td><td>...</td><td>...</td><td>...</td><td>...</td><td>...</td><td>...</td></tr>\n",
              "<tr><td>4.999130541287371</td><td>0.7553310020818157</td><td>0.7892937858040274</td><td>0.8196505070368171</td><td>0.12421898325326489</td><td>0.1202139391836965</td><td>0.1394336495937023</td><td>0.8818504515926495</td><td>0.9128564949818152</td><td>0.9122544359656293</td><td>0.9117405320575482</td><td>0.9102903162399819</td><td>0.910788989224472</td><td>0.9113030834128346</td><td>0.9113927443306533</td><td>0.9104917426995913</td><td>0.9111252742554884</td><td>0.911275166457403</td><td>0.91147059087221</td><td>0.9122814564656117</td><td>0.9125021195965262</td><td>0.9124366759738535</td><td>0.9124899538087696</td><td>0.9127249119428978</td><td>0.9134206769286847</td><td>0.9144443558541493</td><td>0.9154685857061555</td><td>0.9158680062430047</td><td>0.9160949504725145</td><td>0.9204527026087816</td><td>0.9221505163981087</td><td>0.9234749283488202</td><td>0.9240133292672698</td><td>0.92408558150707</td><td>0.9242126897094122</td><td>0.926255956419637</td><td>0.9266250779592387</td></tr>\n",
              "<tr><td>5.000867721531227</td><td>0.7553254917173714</td><td>0.7892891903889652</td><td>0.8196455681198228</td><td>0.12417555573650366</td><td>0.12014490427446893</td><td>0.1391279273770765</td><td>0.8817158424691319</td><td>0.912733514738425</td><td>0.9121308910400338</td><td>0.9116167917129536</td><td>0.9101666314341134</td><td>0.9106644026948567</td><td>0.9111779756863451</td><td>0.9112672955114449</td><td>0.91036490216143</td><td>0.9109975075228494</td><td>0.9111467525944545</td><td>0.9113413380432167</td><td>0.9121518397346168</td><td>0.9123722299727606</td><td>0.9123066550933656</td><td>0.9123598137240179</td><td>0.9125955234616553</td><td>0.9132913891694449</td><td>0.914314959050669</td><td>0.9153389380522539</td><td>0.9157373866650778</td><td>0.9159639354985549</td><td>0.9203218079068123</td><td>0.9220188513385302</td><td>0.9233428971793678</td><td>0.9238809940785842</td><td>0.9239528084332154</td><td>0.9240799182596475</td><td>0.9261231896101662</td><td>0.9264920771475225</td></tr>\n",
              "<tr><td>5.301029995663981</td><td>0.7539974938862506</td><td>0.7881669900307067</td><td>0.8186752608887922</td><td>0.11831465045372729</td><td>0.11296354784205521</td><td>0.11513394454615884</td><td>0.8655245540548786</td><td>0.894451929127926</td><td>0.8929657070357725</td><td>0.8917479453638216</td><td>0.8901608458779767</td><td>0.8900214730732489</td><td>0.8902634214751036</td><td>0.8900381539368687</td><td>0.889151054974291</td><td>0.8894804706217652</td><td>0.889575090099683</td><td>0.8897040035503436</td><td>0.8903446196525149</td><td>0.8905238220190237</td><td>0.8900828690245668</td><td>0.8899715637303928</td><td>0.8900995457763374</td><td>0.8907376047022014</td><td>0.8916996327223965</td><td>0.8926832011912332</td><td>0.8930368880000137</td><td>0.8932235612738864</td><td>0.897363494973489</td><td>0.8990140610538627</td><td>0.9002762752220794</td><td>0.9007414078946114</td><td>0.9007514449063881</td><td>0.900833199422913</td><td>0.9028604501557419</td><td>0.9031926462891401</td></tr>\n",
              "<tr><td>5.6020599913279625</td><td>0.7511761872906749</td><td>0.7858136779772085</td><td>0.8167266681762024</td><td>0.10894878267242075</td><td>0.10392342647868488</td><td>0.10469769978773164</td><td>0.8613821795219933</td><td>0.8865771311405181</td><td>0.8836341812559414</td><td>0.8809417825759888</td><td>0.8790507237508205</td><td>0.8769235482466442</td><td>0.8761279214420143</td><td>0.8744730079369644</td><td>0.8736966249986496</td><td>0.8723742770687812</td><td>0.8721613863620371</td><td>0.8719042826766842</td><td>0.871370638013576</td><td>0.8712977246107897</td><td>0.8686032690372866</td><td>0.8676411118005324</td><td>0.8674472789299288</td><td>0.867964733488757</td><td>0.8688346466791739</td><td>0.8697685503390382</td><td>0.8700745772862102</td><td>0.870220774575827</td><td>0.8741364424750605</td><td>0.8757296761426785</td><td>0.8769286987027356</td><td>0.8773297561315466</td><td>0.8772859000064729</td><td>0.8773254284856852</td><td>0.8793353056080778</td><td>0.8796291725821667</td></tr>\n",
              "<tr><td>5.778151250383644</td><td>0.747980726949319</td><td>0.7831483372409678</td><td>0.8145231513633692</td><td>0.09845018049561664</td><td>0.09390128353154997</td><td>0.09453243608494898</td><td>0.8598274208565891</td><td>0.8848197693141765</td><td>0.8816282407424533</td><td>0.8786262821157599</td><td>0.8766626983685474</td><td>0.8739609511281022</td><td>0.872784403509411</td><td>0.8704800501944179</td><td>0.8697608431897061</td><td>0.8674603871835606</td><td>0.8670293113974582</td><td>0.8664771581113249</td><td>0.8648679181196335</td><td>0.8645281169860068</td><td>0.8584593823989362</td><td>0.8554950186946514</td><td>0.854484940071158</td><td>0.8547302992793299</td><td>0.8554373202835389</td><td>0.856317606246729</td><td>0.8565800853648591</td><td>0.8566986904240486</td><td>0.8604836231035713</td><td>0.8620405760733606</td><td>0.8632025053302731</td><td>0.863567285729382</td><td>0.8634942675566556</td><td>0.8635086066163529</td><td>0.8655074175389061</td><td>0.8657794591901015</td></tr>\n",
              "<tr><td>5.903089986991944</td><td>0.7442915379537374</td><td>0.780071706856635</td><td>0.811979609111314</td><td>0.08633571279935622</td><td>0.08234483972682873</td><td>0.08288719892441378</td><td>0.8582302766194199</td><td>0.8834503676850761</td><td>0.8802056246231695</td><td>0.8771350998193724</td><td>0.8751545596487129</td><td>0.8723171887634462</td><td>0.8710436772822958</td><td>0.8685612788632328</td><td>0.86785786260469</td><td>0.8652560846341759</td><td>0.8647507119223499</td><td>0.8640943859444645</td><td>0.8620586204290932</td><td>0.8616001727868886</td><td>0.8533913905102821</td><td>0.8481610866035988</td><td>0.8458323932303492</td><td>0.845580864652233</td><td>0.8459898313141407</td><td>0.8467898382931506</td><td>0.8469957783523256</td><td>0.8470881204802224</td><td>0.8507744410139823</td><td>0.8523062684185865</td><td>0.8534419069650131</td><td>0.8537816823577927</td><td>0.8536879719683093</td><td>0.8536852766029566</td><td>0.8556740701923847</td><td>0.8559299557786991</td></tr>\n",
              "<tr><td>6.0</td><td>0.7399284313865951</td><td>0.7764330572101602</td><td>0.808971428745105</td><td>0.0720064417483204</td><td>0.06867937944520189</td><td>0.06912796211823762</td><td>0.8563750927475492</td><td>0.88194819909652</td><td>0.8786857261223538</td><td>0.8755924207927496</td><td>0.8736052544717529</td><td>0.8707243007789908</td><td>0.8694183922114211</td><td>0.8668766538444572</td><td>0.8661774582944213</td><td>0.8634721999174461</td><td>0.8629404124212787</td><td>0.8622461825587876</td><td>0.860051150914275</td><td>0.8595460825551496</td><td>0.8503179302181133</td><td>0.8434401558658895</td><td>0.8396954388381787</td><td>0.8387787337773288</td><td>0.83874988987</td><td>0.8394361471005161</td><td>0.8395657395541097</td><td>0.8396298301013119</td><td>0.8432339022683781</td><td>0.8447475322482584</td><td>0.8458635120019246</td><td>0.846184280253235</td><td>0.846074479260495</td><td>0.8460589235789013</td><td>0.8480385121513894</td><td>0.8482809400238812</td></tr>\n",
              "<tr><td>6.079181246047625</td><td>0.7345883372034461</td><td>0.771979640473107</td><td>0.805289656084214</td><td>0.054470772376481125</td><td>0.051953946812054924</td><td>0.052292395507273104</td><td>0.8541137526275562</td><td>0.8801433809300113</td><td>0.8768719460545151</td><td>0.8737678064300893</td><td>0.8717770558194907</td><td>0.8688772265664528</td><td>0.8675573915429408</td><td>0.8649904545360638</td><td>0.8642923583139038</td><td>0.8615439481188728</td><td>0.861000392520863</td><td>0.8602900194402233</td><td>0.8580274091691587</td><td>0.8575020990088337</td><td>0.8477967293821411</td><td>0.8399384620615209</td><td>0.8350471150252233</td><td>0.8334519262167479</td><td>0.8329159969272065</td><td>0.8334645380301374</td><td>0.8335030051096315</td><td>0.8335360080789379</td><td>0.8370646689329341</td><td>0.8385625660745613</td><td>0.8396623186343163</td><td>0.839968029375298</td><td>0.8398468176965256</td><td>0.8398208132134146</td><td>0.8417924105877131</td><td>0.8420238296712078</td></tr>\n",
              "<tr><td>6.146128035678238</td><td>0.7277036878665081</td><td>0.7662381288940399</td><td>0.8005429769360175</td><td>0.031863130943010784</td><td>0.030390892914775033</td><td>0.030587855184944914</td><td>0.8512024227779131</td><td>0.8778298381831128</td><td>0.8745519646972224</td><td>0.8714410063276145</td><td>0.8694468859985833</td><td>0.8665371907501465</td><td>0.8652093444503848</td><td>0.862630006575826</td><td>0.8619310009823159</td><td>0.8591615182269038</td><td>0.8586120439884674</td><td>0.8578934254390487</td><td>0.8555989190750191</td><td>0.8550635804093507</td><td>0.8451295137802376</td><td>0.836749368896142</td><td>0.8311148797321753</td><td>0.8289917832977681</td><td>0.828007671708131</td><td>0.8284269640427951</td><td>0.8283779053546579</td><td>0.8283818598770946</td><td>0.8318464493171082</td><td>0.8333321715828077</td><td>0.8344187395722074</td><td>0.8347112086153321</td><td>0.834579177594612</td><td>0.8345445148501938</td><td>0.83650969940734</td><td>0.8367314159278166</td></tr>\n",
              "<tr><td>6.204119982655925</td><td>0.7180004871162171</td><td>0.758146062510512</td><td>0.7938530239089172</td><td>0.0</td><td>0.0</td><td>0.0</td><td>0.8471008036024942</td><td>0.8745762167288584</td><td>0.871292450073424</td><td>0.8681752244785077</td><td>0.8661774904779389</td><td>0.8632611777419017</td><td>0.8619279156420723</td><td>0.8593413490289536</td><td>0.8586404109856945</td><td>0.8558608465469315</td><td>0.8553076267942243</td><td>0.8545845903731297</td><td>0.8522765785372649</td><td>0.8517362349751957</td><td>0.8417147251563685</td><td>0.8331447340958521</td><td>0.8272175016580859</td><td>0.8248642573452913</td><td>0.8236683118455352</td><td>0.8240208503932804</td><td>0.82392499991884</td><td>0.8239112846926695</td><td>0.8273255625383225</td><td>0.8287976656559436</td><td>0.829871819092445</td><td>0.8301526505862546</td><td>0.8300114719055295</td><td>0.8299680001280855</td><td>0.8319295377798809</td><td>0.8321451405146719</td></tr>\n",
              "</table></div>"
            ]
          },
          "metadata": {},
          "execution_count": 17
        }
      ],
      "source": [
        "Tabla_espectro_final #los dos anteriores cumplen con el mismo objetivo, los datos ahora son floats"
      ]
    },
    {
      "cell_type": "code",
      "execution_count": null,
      "metadata": {
        "colab": {
          "base_uri": "https://localhost:8080/",
          "height": 265
        },
        "id": "QkOdWlz2aQvc",
        "outputId": "8cf32984-b20c-44fc-9607-6423265983fc"
      },
      "outputs": [
        {
          "output_type": "display_data",
          "data": {
            "text/plain": [
              "<Figure size 432x288 with 1 Axes>"
            ],
            "image/png": "[encoded data removed]"
          },
          "metadata": {
            "needs_background": "light"
          }
        }
      ],
      "source": [
        "#normalizando los espectros\n",
        "for name in columns[1:]:\n",
        "    plt.plot(Tabla_espectro_final['Log WL'],Tabla_espectro_final[name])\n",
        "\n",
        "for filtro in Tablas_para_filtros:\n",
        "    plt.plot(filtro['Log Wavelength'],filtro['Normalized Flux'])\n",
        "\n",
        "plt.show()"
      ]
    },
    {
      "cell_type": "code",
      "execution_count": null,
      "metadata": {
        "id": "750iQphooP4v"
      },
      "outputs": [],
      "source": [
        "Tablas_espectros_por_edad=[Table() for edad in range(len(columns[1:]))]\n",
        "c=0\n",
        "\n",
        "for table,name in zip(Tablas_espectros_por_edad,columns[1:]):\n",
        "    if name!='[A]':\n",
        "        table['Log WL']=Tabla_espectro_final['Log WL']\n",
        "        table[f'{name}']=Tabla_espectro_final[name]\n",
        "#Tablas_espectros_por_edad"
      ]
    },
    {
      "cell_type": "code",
      "execution_count": null,
      "metadata": {
        "colab": {
          "base_uri": "https://localhost:8080/"
        },
        "id": "GPvJ3PyurcPz",
        "outputId": "5cdbcc97-1c13-47e1-8640-496bb8936c09",
        "scrolled": true
      },
      "outputs": [
        {
          "name": "stdout",
          "output_type": "stream",
          "text": [
            "¿Cuantas sumas desea hacer? >1000\n"
          ]
        }
      ],
      "source": [
        "#Filtros,columns\n",
        "\n",
        "Cantidad_de_sumas=0\n",
        "while Cantidad_de_sumas<=0:\n",
        "    try:\n",
        "        Cantidad_de_sumas=int(input('¿Cuantas sumas desea hacer? >'))\n",
        "    except(ValueError):\n",
        "        print('Valor debe ser un entero postivo')\n",
        "\n",
        "Nombres_filtros=Filtros\n",
        "Datos_por_filtro=Tablas_para_filtros\n",
        "Nombres_edades=columns[1:]\n",
        "Datos_por_edad=Tablas_espectros_por_edad\n",
        "\n",
        "Valores_convolucion_por_filtro=[]\n",
        "\n",
        "\n",
        "for Ename,Dedad in zip(Nombres_edades,Datos_por_edad):\n",
        "    for Fname,Dfilter in zip(Nombres_filtros,Datos_por_filtro):\n",
        "        crux=f'{Ename} en filtro {Fname}'\n",
        "        guardar_convolucion=convolution(Dedad,Dfilter,Cantidad_de_sumas)\n",
        "        Valores_convolucion_por_filtro.append([crux,guardar_convolucion])\n"
      ]
    },
    {
      "cell_type": "code",
      "execution_count": null,
      "metadata": {
        "colab": {
          "base_uri": "https://localhost:8080/"
        },
        "id": "BV3IRB1cs7ja",
        "outputId": "ddad9f52-66ac-4073-8f41-28d677e6e677"
      },
      "outputs": [
        {
          "output_type": "stream",
          "name": "stdout",
          "text": [
            "1Myr en filtro F0410.dat : 0.016193164580253678\n",
            "1Myr en filtro F0430.dat : 0.016190493266808107\n",
            "1Myr en filtro rSDSS.dat : 0.06421551869439673\n",
            "1Myr en filtro iSDSS.dat : 0.076446822672856\n",
            "1Myr en filtro zSDSS.dat : 0.0945802297099959\n",
            "1Myr en filtro F0395.dat : 0.016195225755446716\n",
            "1Myr en filtro gSDSS.dat : 0.05523325705909615\n",
            "1Myr en filtro F0515.dat : 0.016190135666639145\n",
            "1Myr en filtro F0378.dat : 0.016185497461270886\n",
            "1Myr en filtro F0861.dat : 0.032709477566892124\n",
            "1Myr en filtro uJAVA.dat : 0.03246936890160088\n",
            "1Myr en filtro F0660.dat : 0.016193656088777434\n",
            "2Myr en filtro F0410.dat : 0.016193164580253678\n",
            "2Myr en filtro F0430.dat : 0.016190493266808107\n",
            "2Myr en filtro rSDSS.dat : 0.0643859139891516\n",
            "2Myr en filtro iSDSS.dat : 0.07689734685962281\n",
            "2Myr en filtro zSDSS.dat : 0.09544674785516674\n",
            "2Myr en filtro F0395.dat : 0.016195225755446716\n",
            "2Myr en filtro gSDSS.dat : 0.05523822443994772\n",
            "2Myr en filtro F0515.dat : 0.016190135666639145\n",
            "2Myr en filtro F0378.dat : 0.016185497461270886\n",
            "2Myr en filtro F0861.dat : 0.032709477566892124\n",
            "2Myr en filtro uJAVA.dat : 0.03246936890160088\n",
            "2Myr en filtro F0660.dat : 0.016193656088777434\n",
            "3Myr en filtro F0410.dat : 0.016193164580253678\n",
            "3Myr en filtro F0430.dat : 0.016190493266808107\n",
            "3Myr en filtro rSDSS.dat : 0.0643914623637753\n",
            "3Myr en filtro iSDSS.dat : 0.07717125581152853\n",
            "3Myr en filtro zSDSS.dat : 0.09616229579931425\n",
            "3Myr en filtro F0395.dat : 0.016195225755446716\n",
            "3Myr en filtro gSDSS.dat : 0.05523822443994772\n",
            "3Myr en filtro F0515.dat : 0.016190135666639145\n",
            "3Myr en filtro F0378.dat : 0.016185497461270886\n",
            "3Myr en filtro F0861.dat : 0.032709477566892124\n",
            "3Myr en filtro uJAVA.dat : 0.03246936890160088\n",
            "3Myr en filtro F0660.dat : 0.016193656088777434\n",
            "4Myr en filtro F0410.dat : 0.0159743286848653\n",
            "4Myr en filtro F0430.dat : 0.015974615277549717\n",
            "4Myr en filtro rSDSS.dat : 0.05714691108840935\n",
            "4Myr en filtro iSDSS.dat : 0.06617062780957908\n",
            "4Myr en filtro zSDSS.dat : 0.07921367250509867\n",
            "4Myr en filtro F0395.dat : 0.015979347766188323\n",
            "4Myr en filtro gSDSS.dat : 0.05073108589952723\n",
            "4Myr en filtro F0515.dat : 0.01597425767738075\n",
            "4Myr en filtro F0378.dat : 0.015966449196790765\n",
            "4Myr en filtro F0861.dat : 0.03133464452392434\n",
            "4Myr en filtro uJAVA.dat : 0.03102027805894922\n",
            "4Myr en filtro F0660.dat : 0.01597777809951904\n",
            "5Myr en filtro F0410.dat : 0.016095815219407242\n",
            "5Myr en filtro F0430.dat : 0.016090829177969484\n",
            "5Myr en filtro rSDSS.dat : 0.05797914074832416\n",
            "5Myr en filtro iSDSS.dat : 0.06724175712125326\n",
            "5Myr en filtro zSDSS.dat : 0.08061706605202873\n",
            "5Myr en filtro F0395.dat : 0.016095561666608093\n",
            "5Myr en filtro gSDSS.dat : 0.05140331047958767\n",
            "5Myr en filtro F0515.dat : 0.01609047157780052\n",
            "5Myr en filtro F0378.dat : 0.01608784297391602\n",
            "5Myr en filtro F0861.dat : 0.031678673539973286\n",
            "5Myr en filtro uJAVA.dat : 0.031381191420608974\n",
            "5Myr en filtro F0660.dat : 0.01609399199993881\n",
            "6Myr en filtro F0410.dat : 0.01614264467027965\n",
            "6Myr en filtro F0430.dat : 0.016135540845818377\n",
            "6Myr en filtro rSDSS.dat : 0.059837675835106685\n",
            "6Myr en filtro iSDSS.dat : 0.06981772146229376\n",
            "6Myr en filtro zSDSS.dat : 0.08444971552367311\n",
            "6Myr en filtro F0395.dat : 0.016140273334456983\n",
            "6Myr en filtro gSDSS.dat : 0.05270962934283353\n",
            "6Myr en filtro F0515.dat : 0.016135183245649415\n",
            "6Myr en filtro F0378.dat : 0.016134452027147514\n",
            "6Myr en filtro F0861.dat : 0.032021169437279465\n",
            "6Myr en filtro uJAVA.dat : 0.031744697891334925\n",
            "6Myr en filtro F0660.dat : 0.0161387036677877\n",
            "7Myr en filtro F0410.dat : 0.016193164580253678\n",
            "7Myr en filtro F0430.dat : 0.016190493266808107\n",
            "7Myr en filtro rSDSS.dat : 0.0643914623637753\n",
            "7Myr en filtro iSDSS.dat : 0.07723825726366419\n",
            "7Myr en filtro zSDSS.dat : 0.09652399554332579\n",
            "7Myr en filtro F0395.dat : 0.016195225755446716\n",
            "7Myr en filtro gSDSS.dat : 0.05523822443994772\n",
            "7Myr en filtro F0515.dat : 0.016190135666639145\n",
            "7Myr en filtro F0378.dat : 0.016185497461270886\n",
            "7Myr en filtro F0861.dat : 0.032709477566892124\n",
            "7Myr en filtro uJAVA.dat : 0.03246936890160088\n",
            "7Myr en filtro F0660.dat : 0.016193656088777434\n",
            "8Myr en filtro F0410.dat : 0.016193164580253678\n",
            "8Myr en filtro F0430.dat : 0.016190493266808107\n",
            "8Myr en filtro rSDSS.dat : 0.0643914623637753\n",
            "8Myr en filtro iSDSS.dat : 0.07723825726366419\n",
            "8Myr en filtro zSDSS.dat : 0.09652399554332579\n",
            "8Myr en filtro F0395.dat : 0.016195225755446716\n",
            "8Myr en filtro gSDSS.dat : 0.05523822443994772\n",
            "8Myr en filtro F0515.dat : 0.016190135666639145\n",
            "8Myr en filtro F0378.dat : 0.016185497461270886\n",
            "8Myr en filtro F0861.dat : 0.032709477566892124\n",
            "8Myr en filtro uJAVA.dat : 0.03246936890160088\n",
            "8Myr en filtro F0660.dat : 0.016193656088777434\n",
            "9Myr en filtro F0410.dat : 0.016193164580253678\n",
            "9Myr en filtro F0430.dat : 0.016190493266808107\n",
            "9Myr en filtro rSDSS.dat : 0.0643914623637753\n",
            "9Myr en filtro iSDSS.dat : 0.07723825726366419\n",
            "9Myr en filtro zSDSS.dat : 0.09652399554332579\n",
            "9Myr en filtro F0395.dat : 0.016195225755446716\n",
            "9Myr en filtro gSDSS.dat : 0.05523822443994772\n",
            "9Myr en filtro F0515.dat : 0.016190135666639145\n",
            "9Myr en filtro F0378.dat : 0.016185497461270886\n",
            "9Myr en filtro F0861.dat : 0.032709477566892124\n",
            "9Myr en filtro uJAVA.dat : 0.03246936890160088\n",
            "9Myr en filtro F0660.dat : 0.016193656088777434\n",
            "10Myr en filtro F0410.dat : 0.016193164580253678\n",
            "10Myr en filtro F0430.dat : 0.016190493266808107\n",
            "10Myr en filtro rSDSS.dat : 0.0643914623637753\n",
            "10Myr en filtro iSDSS.dat : 0.07723825726366419\n",
            "10Myr en filtro zSDSS.dat : 0.09652399554332579\n",
            "10Myr en filtro F0395.dat : 0.016195225755446716\n",
            "10Myr en filtro gSDSS.dat : 0.05523822443994772\n",
            "10Myr en filtro F0515.dat : 0.016190135666639145\n",
            "10Myr en filtro F0378.dat : 0.016185497461270886\n",
            "10Myr en filtro F0861.dat : 0.032709477566892124\n",
            "10Myr en filtro uJAVA.dat : 0.03246936890160088\n",
            "10Myr en filtro F0660.dat : 0.016193656088777434\n",
            "11Myr en filtro F0410.dat : 0.016193164580253678\n",
            "11Myr en filtro F0430.dat : 0.016190493266808107\n",
            "11Myr en filtro rSDSS.dat : 0.0643914623637753\n",
            "11Myr en filtro iSDSS.dat : 0.07723825726366419\n",
            "11Myr en filtro zSDSS.dat : 0.09652399554332579\n",
            "11Myr en filtro F0395.dat : 0.016195225755446716\n",
            "11Myr en filtro gSDSS.dat : 0.05523822443994772\n",
            "11Myr en filtro F0515.dat : 0.016190135666639145\n",
            "11Myr en filtro F0378.dat : 0.016185497461270886\n",
            "11Myr en filtro F0861.dat : 0.032709477566892124\n",
            "11Myr en filtro uJAVA.dat : 0.03246936890160088\n",
            "11Myr en filtro F0660.dat : 0.016193656088777434\n",
            "12Myr en filtro F0410.dat : 0.016193164580253678\n",
            "12Myr en filtro F0430.dat : 0.016190493266808107\n",
            "12Myr en filtro rSDSS.dat : 0.0643914623637753\n",
            "12Myr en filtro iSDSS.dat : 0.07723825726366419\n",
            "12Myr en filtro zSDSS.dat : 0.09652399554332579\n",
            "12Myr en filtro F0395.dat : 0.016195225755446716\n",
            "12Myr en filtro gSDSS.dat : 0.05523822443994772\n",
            "12Myr en filtro F0515.dat : 0.016190135666639145\n",
            "12Myr en filtro F0378.dat : 0.016185497461270886\n",
            "12Myr en filtro F0861.dat : 0.032709477566892124\n",
            "12Myr en filtro uJAVA.dat : 0.03246936890160088\n",
            "12Myr en filtro F0660.dat : 0.016193656088777434\n",
            "13Myr en filtro F0410.dat : 0.016193164580253678\n",
            "13Myr en filtro F0430.dat : 0.016190493266808107\n",
            "13Myr en filtro rSDSS.dat : 0.0643914623637753\n",
            "13Myr en filtro iSDSS.dat : 0.07723825726366419\n",
            "13Myr en filtro zSDSS.dat : 0.09652399554332579\n",
            "13Myr en filtro F0395.dat : 0.016195225755446716\n",
            "13Myr en filtro gSDSS.dat : 0.05523822443994772\n",
            "13Myr en filtro F0515.dat : 0.016190135666639145\n",
            "13Myr en filtro F0378.dat : 0.016185497461270886\n",
            "13Myr en filtro F0861.dat : 0.032709477566892124\n",
            "13Myr en filtro uJAVA.dat : 0.03246936890160088\n",
            "13Myr en filtro F0660.dat : 0.016193656088777434\n",
            "14Myr en filtro F0410.dat : 0.016193164580253678\n",
            "14Myr en filtro F0430.dat : 0.016190493266808107\n",
            "14Myr en filtro rSDSS.dat : 0.0643914623637753\n",
            "14Myr en filtro iSDSS.dat : 0.07723825726366419\n",
            "14Myr en filtro zSDSS.dat : 0.09652399554332579\n",
            "14Myr en filtro F0395.dat : 0.016195225755446716\n",
            "14Myr en filtro gSDSS.dat : 0.05523822443994772\n",
            "14Myr en filtro F0515.dat : 0.016190135666639145\n",
            "14Myr en filtro F0378.dat : 0.016185497461270886\n",
            "14Myr en filtro F0861.dat : 0.032709477566892124\n",
            "14Myr en filtro uJAVA.dat : 0.03246936890160088\n",
            "14Myr en filtro F0660.dat : 0.016193656088777434\n",
            "15Myr en filtro F0410.dat : 0.016193164580253678\n",
            "15Myr en filtro F0430.dat : 0.016190493266808107\n",
            "15Myr en filtro rSDSS.dat : 0.0643914623637753\n",
            "15Myr en filtro iSDSS.dat : 0.07723825726366419\n",
            "15Myr en filtro zSDSS.dat : 0.09652399554332579\n",
            "15Myr en filtro F0395.dat : 0.016195225755446716\n",
            "15Myr en filtro gSDSS.dat : 0.05523822443994772\n",
            "15Myr en filtro F0515.dat : 0.016190135666639145\n",
            "15Myr en filtro F0378.dat : 0.016185497461270886\n",
            "15Myr en filtro F0861.dat : 0.032709477566892124\n",
            "15Myr en filtro uJAVA.dat : 0.03246936890160088\n",
            "15Myr en filtro F0660.dat : 0.016193656088777434\n",
            "16Myr en filtro F0410.dat : 0.016193164580253678\n",
            "16Myr en filtro F0430.dat : 0.016190493266808107\n",
            "16Myr en filtro rSDSS.dat : 0.0643914623637753\n",
            "16Myr en filtro iSDSS.dat : 0.07723825726366419\n",
            "16Myr en filtro zSDSS.dat : 0.09652399554332579\n",
            "16Myr en filtro F0395.dat : 0.016195225755446716\n",
            "16Myr en filtro gSDSS.dat : 0.05523822443994772\n",
            "16Myr en filtro F0515.dat : 0.016190135666639145\n",
            "16Myr en filtro F0378.dat : 0.016185497461270886\n",
            "16Myr en filtro F0861.dat : 0.032709477566892124\n",
            "16Myr en filtro uJAVA.dat : 0.03246936890160088\n",
            "16Myr en filtro F0660.dat : 0.016193656088777434\n",
            "17Myr en filtro F0410.dat : 0.016193164580253678\n",
            "17Myr en filtro F0430.dat : 0.016190493266808107\n",
            "17Myr en filtro rSDSS.dat : 0.0643914623637753\n",
            "17Myr en filtro iSDSS.dat : 0.07723825726366419\n",
            "17Myr en filtro zSDSS.dat : 0.09652399554332579\n",
            "17Myr en filtro F0395.dat : 0.016195225755446716\n",
            "17Myr en filtro gSDSS.dat : 0.05523822443994772\n",
            "17Myr en filtro F0515.dat : 0.016190135666639145\n",
            "17Myr en filtro F0378.dat : 0.016185497461270886\n",
            "17Myr en filtro F0861.dat : 0.032709477566892124\n",
            "17Myr en filtro uJAVA.dat : 0.03246936890160088\n",
            "17Myr en filtro F0660.dat : 0.016193656088777434\n",
            "18Myr en filtro F0410.dat : 0.016193164580253678\n",
            "18Myr en filtro F0430.dat : 0.016190493266808107\n",
            "18Myr en filtro rSDSS.dat : 0.0643914623637753\n",
            "18Myr en filtro iSDSS.dat : 0.07723825726366419\n",
            "18Myr en filtro zSDSS.dat : 0.09652399554332579\n",
            "18Myr en filtro F0395.dat : 0.016195225755446716\n",
            "18Myr en filtro gSDSS.dat : 0.05523822443994772\n",
            "18Myr en filtro F0515.dat : 0.016190135666639145\n",
            "18Myr en filtro F0378.dat : 0.016185497461270886\n",
            "18Myr en filtro F0861.dat : 0.032709477566892124\n",
            "18Myr en filtro uJAVA.dat : 0.03246936890160088\n",
            "18Myr en filtro F0660.dat : 0.016193656088777434\n",
            "19Myr en filtro F0410.dat : 0.016193164580253678\n",
            "19Myr en filtro F0430.dat : 0.016190493266808107\n",
            "19Myr en filtro rSDSS.dat : 0.0643914623637753\n",
            "19Myr en filtro iSDSS.dat : 0.07723825726366419\n",
            "19Myr en filtro zSDSS.dat : 0.09652399554332579\n",
            "19Myr en filtro F0395.dat : 0.016195225755446716\n",
            "19Myr en filtro gSDSS.dat : 0.05523822443994772\n",
            "19Myr en filtro F0515.dat : 0.016190135666639145\n",
            "19Myr en filtro F0378.dat : 0.016185497461270886\n",
            "19Myr en filtro F0861.dat : 0.032709477566892124\n",
            "19Myr en filtro uJAVA.dat : 0.03246936890160088\n",
            "19Myr en filtro F0660.dat : 0.016193656088777434\n",
            "20Myr en filtro F0410.dat : 0.016193164580253678\n",
            "20Myr en filtro F0430.dat : 0.016190493266808107\n",
            "20Myr en filtro rSDSS.dat : 0.0643914623637753\n",
            "20Myr en filtro iSDSS.dat : 0.07723825726366419\n",
            "20Myr en filtro zSDSS.dat : 0.09652399554332579\n",
            "20Myr en filtro F0395.dat : 0.016195225755446716\n",
            "20Myr en filtro gSDSS.dat : 0.05523822443994772\n",
            "20Myr en filtro F0515.dat : 0.016190135666639145\n",
            "20Myr en filtro F0378.dat : 0.016185497461270886\n",
            "20Myr en filtro F0861.dat : 0.032709477566892124\n",
            "20Myr en filtro uJAVA.dat : 0.03246936890160088\n",
            "20Myr en filtro F0660.dat : 0.016193656088777434\n",
            "30Myr en filtro F0410.dat : 0.016193164580253678\n",
            "30Myr en filtro F0430.dat : 0.016190493266808107\n",
            "30Myr en filtro rSDSS.dat : 0.0643914623637753\n",
            "30Myr en filtro iSDSS.dat : 0.07723825726366419\n",
            "30Myr en filtro zSDSS.dat : 0.09652399554332579\n",
            "30Myr en filtro F0395.dat : 0.016195225755446716\n",
            "30Myr en filtro gSDSS.dat : 0.05523822443994772\n",
            "30Myr en filtro F0515.dat : 0.016190135666639145\n",
            "30Myr en filtro F0378.dat : 0.016185497461270886\n",
            "30Myr en filtro F0861.dat : 0.032709477566892124\n",
            "30Myr en filtro uJAVA.dat : 0.03246936890160088\n",
            "30Myr en filtro F0660.dat : 0.016193656088777434\n",
            "40Myr en filtro F0410.dat : 0.016193164580253678\n",
            "40Myr en filtro F0430.dat : 0.016190493266808107\n",
            "40Myr en filtro rSDSS.dat : 0.0643914623637753\n",
            "40Myr en filtro iSDSS.dat : 0.07723825726366419\n",
            "40Myr en filtro zSDSS.dat : 0.09652399554332579\n",
            "40Myr en filtro F0395.dat : 0.016195225755446716\n",
            "40Myr en filtro gSDSS.dat : 0.05523822443994772\n",
            "40Myr en filtro F0515.dat : 0.016190135666639145\n",
            "40Myr en filtro F0378.dat : 0.016185497461270886\n",
            "40Myr en filtro F0861.dat : 0.032709477566892124\n",
            "40Myr en filtro uJAVA.dat : 0.03246936890160088\n",
            "40Myr en filtro F0660.dat : 0.016193656088777434\n",
            "50Myr en filtro F0410.dat : 0.016193164580253678\n",
            "50Myr en filtro F0430.dat : 0.016190493266808107\n",
            "50Myr en filtro rSDSS.dat : 0.0643914623637753\n",
            "50Myr en filtro iSDSS.dat : 0.07723825726366419\n",
            "50Myr en filtro zSDSS.dat : 0.09652399554332579\n",
            "50Myr en filtro F0395.dat : 0.016195225755446716\n",
            "50Myr en filtro gSDSS.dat : 0.05523822443994772\n",
            "50Myr en filtro F0515.dat : 0.016190135666639145\n",
            "50Myr en filtro F0378.dat : 0.016185497461270886\n",
            "50Myr en filtro F0861.dat : 0.032709477566892124\n",
            "50Myr en filtro uJAVA.dat : 0.03246936890160088\n",
            "50Myr en filtro F0660.dat : 0.016193656088777434\n",
            "60Myr en filtro F0410.dat : 0.016193164580253678\n",
            "60Myr en filtro F0430.dat : 0.016190493266808107\n",
            "60Myr en filtro rSDSS.dat : 0.0643914623637753\n",
            "60Myr en filtro iSDSS.dat : 0.07723825726366419\n",
            "60Myr en filtro zSDSS.dat : 0.09652399554332579\n",
            "60Myr en filtro F0395.dat : 0.016195225755446716\n",
            "60Myr en filtro gSDSS.dat : 0.05523822443994772\n",
            "60Myr en filtro F0515.dat : 0.016190135666639145\n",
            "60Myr en filtro F0378.dat : 0.016185497461270886\n",
            "60Myr en filtro F0861.dat : 0.032709477566892124\n",
            "60Myr en filtro uJAVA.dat : 0.03246936890160088\n",
            "60Myr en filtro F0660.dat : 0.016193656088777434\n",
            "70Myr en filtro F0410.dat : 0.016193164580253678\n",
            "70Myr en filtro F0430.dat : 0.016190493266808107\n",
            "70Myr en filtro rSDSS.dat : 0.0643914623637753\n",
            "70Myr en filtro iSDSS.dat : 0.07723825726366419\n",
            "70Myr en filtro zSDSS.dat : 0.09652399554332579\n",
            "70Myr en filtro F0395.dat : 0.016195225755446716\n",
            "70Myr en filtro gSDSS.dat : 0.05523822443994772\n",
            "70Myr en filtro F0515.dat : 0.016190135666639145\n",
            "70Myr en filtro F0378.dat : 0.016185497461270886\n",
            "70Myr en filtro F0861.dat : 0.032709477566892124\n",
            "70Myr en filtro uJAVA.dat : 0.03246936890160088\n",
            "70Myr en filtro F0660.dat : 0.016193656088777434\n",
            "80Myr en filtro F0410.dat : 0.016193164580253678\n",
            "80Myr en filtro F0430.dat : 0.016190493266808107\n",
            "80Myr en filtro rSDSS.dat : 0.0643914623637753\n",
            "80Myr en filtro iSDSS.dat : 0.07723825726366419\n",
            "80Myr en filtro zSDSS.dat : 0.09652399554332579\n",
            "80Myr en filtro F0395.dat : 0.016195225755446716\n",
            "80Myr en filtro gSDSS.dat : 0.05523822443994772\n",
            "80Myr en filtro F0515.dat : 0.016190135666639145\n",
            "80Myr en filtro F0378.dat : 0.016185497461270886\n",
            "80Myr en filtro F0861.dat : 0.032709477566892124\n",
            "80Myr en filtro uJAVA.dat : 0.03246936890160088\n",
            "80Myr en filtro F0660.dat : 0.016193656088777434\n",
            "90Myr en filtro F0410.dat : 0.016193164580253678\n",
            "90Myr en filtro F0430.dat : 0.016190493266808107\n",
            "90Myr en filtro rSDSS.dat : 0.0643914623637753\n",
            "90Myr en filtro iSDSS.dat : 0.07723825726366419\n",
            "90Myr en filtro zSDSS.dat : 0.09652399554332579\n",
            "90Myr en filtro F0395.dat : 0.016195225755446716\n",
            "90Myr en filtro gSDSS.dat : 0.05523822443994772\n",
            "90Myr en filtro F0515.dat : 0.016190135666639145\n",
            "90Myr en filtro F0378.dat : 0.016185497461270886\n",
            "90Myr en filtro F0861.dat : 0.032709477566892124\n",
            "90Myr en filtro uJAVA.dat : 0.03246936890160088\n",
            "90Myr en filtro F0660.dat : 0.016193656088777434\n",
            "100Myr en filtro F0410.dat : 0.016193164580253678\n",
            "100Myr en filtro F0430.dat : 0.016190493266808107\n",
            "100Myr en filtro rSDSS.dat : 0.0643914623637753\n",
            "100Myr en filtro iSDSS.dat : 0.07723825726366419\n",
            "100Myr en filtro zSDSS.dat : 0.09652399554332579\n",
            "100Myr en filtro F0395.dat : 0.016195225755446716\n",
            "100Myr en filtro gSDSS.dat : 0.05523822443994772\n",
            "100Myr en filtro F0515.dat : 0.016190135666639145\n",
            "100Myr en filtro F0378.dat : 0.016185497461270886\n",
            "100Myr en filtro F0861.dat : 0.032709477566892124\n",
            "100Myr en filtro uJAVA.dat : 0.03246936890160088\n",
            "100Myr en filtro F0660.dat : 0.016193656088777434\n",
            "200Myr en filtro F0410.dat : 0.016193164580253678\n",
            "200Myr en filtro F0430.dat : 0.016190493266808107\n",
            "200Myr en filtro rSDSS.dat : 0.0643914623637753\n",
            "200Myr en filtro iSDSS.dat : 0.07723825726366419\n",
            "200Myr en filtro zSDSS.dat : 0.09652399554332579\n",
            "200Myr en filtro F0395.dat : 0.016195225755446716\n",
            "200Myr en filtro gSDSS.dat : 0.05523822443994772\n",
            "200Myr en filtro F0515.dat : 0.016190135666639145\n",
            "200Myr en filtro F0378.dat : 0.016185497461270886\n",
            "200Myr en filtro F0861.dat : 0.032709477566892124\n",
            "200Myr en filtro uJAVA.dat : 0.03246936890160088\n",
            "200Myr en filtro F0660.dat : 0.016193656088777434\n",
            "300Myr en filtro F0410.dat : 0.016193164580253678\n",
            "300Myr en filtro F0430.dat : 0.016190493266808107\n",
            "300Myr en filtro rSDSS.dat : 0.0643914623637753\n",
            "300Myr en filtro iSDSS.dat : 0.07723825726366419\n",
            "300Myr en filtro zSDSS.dat : 0.09652399554332579\n",
            "300Myr en filtro F0395.dat : 0.016195225755446716\n",
            "300Myr en filtro gSDSS.dat : 0.05523822443994772\n",
            "300Myr en filtro F0515.dat : 0.016190135666639145\n",
            "300Myr en filtro F0378.dat : 0.016185497461270886\n",
            "300Myr en filtro F0861.dat : 0.032709477566892124\n",
            "300Myr en filtro uJAVA.dat : 0.03246936890160088\n",
            "300Myr en filtro F0660.dat : 0.016193656088777434\n",
            "400Myr en filtro F0410.dat : 0.016193164580253678\n",
            "400Myr en filtro F0430.dat : 0.016190493266808107\n",
            "400Myr en filtro rSDSS.dat : 0.0643914623637753\n",
            "400Myr en filtro iSDSS.dat : 0.07723825726366419\n",
            "400Myr en filtro zSDSS.dat : 0.09652399554332579\n",
            "400Myr en filtro F0395.dat : 0.016195225755446716\n",
            "400Myr en filtro gSDSS.dat : 0.05523822443994772\n",
            "400Myr en filtro F0515.dat : 0.016190135666639145\n",
            "400Myr en filtro F0378.dat : 0.016185497461270886\n",
            "400Myr en filtro F0861.dat : 0.032709477566892124\n",
            "400Myr en filtro uJAVA.dat : 0.03246936890160088\n",
            "400Myr en filtro F0660.dat : 0.016193656088777434\n",
            "500Myr en filtro F0410.dat : 0.016193164580253678\n",
            "500Myr en filtro F0430.dat : 0.016190493266808107\n",
            "500Myr en filtro rSDSS.dat : 0.0643914623637753\n",
            "500Myr en filtro iSDSS.dat : 0.07723825726366419\n",
            "500Myr en filtro zSDSS.dat : 0.09652399554332579\n",
            "500Myr en filtro F0395.dat : 0.016195225755446716\n",
            "500Myr en filtro gSDSS.dat : 0.05523822443994772\n",
            "500Myr en filtro F0515.dat : 0.016190135666639145\n",
            "500Myr en filtro F0378.dat : 0.016185497461270886\n",
            "500Myr en filtro F0861.dat : 0.032709477566892124\n",
            "500Myr en filtro uJAVA.dat : 0.03246936890160088\n",
            "500Myr en filtro F0660.dat : 0.016193656088777434\n",
            "600Myr en filtro F0410.dat : 0.016193164580253678\n",
            "600Myr en filtro F0430.dat : 0.016190493266808107\n",
            "600Myr en filtro rSDSS.dat : 0.0643914623637753\n",
            "600Myr en filtro iSDSS.dat : 0.07723825726366419\n",
            "600Myr en filtro zSDSS.dat : 0.09652399554332579\n",
            "600Myr en filtro F0395.dat : 0.016195225755446716\n",
            "600Myr en filtro gSDSS.dat : 0.05523822443994772\n",
            "600Myr en filtro F0515.dat : 0.016190135666639145\n",
            "600Myr en filtro F0378.dat : 0.016185497461270886\n",
            "600Myr en filtro F0861.dat : 0.032709477566892124\n",
            "600Myr en filtro uJAVA.dat : 0.03246936890160088\n",
            "600Myr en filtro F0660.dat : 0.016193656088777434\n",
            "700Myr en filtro F0410.dat : 0.016193164580253678\n",
            "700Myr en filtro F0430.dat : 0.016190493266808107\n",
            "700Myr en filtro rSDSS.dat : 0.0643914623637753\n",
            "700Myr en filtro iSDSS.dat : 0.07723825726366419\n",
            "700Myr en filtro zSDSS.dat : 0.09652399554332579\n",
            "700Myr en filtro F0395.dat : 0.016195225755446716\n",
            "700Myr en filtro gSDSS.dat : 0.05523822443994772\n",
            "700Myr en filtro F0515.dat : 0.016190135666639145\n",
            "700Myr en filtro F0378.dat : 0.016185497461270886\n",
            "700Myr en filtro F0861.dat : 0.032709477566892124\n",
            "700Myr en filtro uJAVA.dat : 0.03246936890160088\n",
            "700Myr en filtro F0660.dat : 0.016193656088777434\n",
            "800Myr en filtro F0410.dat : 0.016193164580253678\n",
            "800Myr en filtro F0430.dat : 0.016190493266808107\n",
            "800Myr en filtro rSDSS.dat : 0.0643914623637753\n",
            "800Myr en filtro iSDSS.dat : 0.07723825726366419\n",
            "800Myr en filtro zSDSS.dat : 0.09652399554332579\n",
            "800Myr en filtro F0395.dat : 0.016195225755446716\n",
            "800Myr en filtro gSDSS.dat : 0.05523822443994772\n",
            "800Myr en filtro F0515.dat : 0.016190135666639145\n",
            "800Myr en filtro F0378.dat : 0.016185497461270886\n",
            "800Myr en filtro F0861.dat : 0.032709477566892124\n",
            "800Myr en filtro uJAVA.dat : 0.03246936890160088\n",
            "800Myr en filtro F0660.dat : 0.016193656088777434\n",
            "900Myr en filtro F0410.dat : 0.016193164580253678\n",
            "900Myr en filtro F0430.dat : 0.016190493266808107\n",
            "900Myr en filtro rSDSS.dat : 0.0643914623637753\n",
            "900Myr en filtro iSDSS.dat : 0.07723825726366419\n",
            "900Myr en filtro zSDSS.dat : 0.09652399554332579\n",
            "900Myr en filtro F0395.dat : 0.016195225755446716\n",
            "900Myr en filtro gSDSS.dat : 0.05523822443994772\n",
            "900Myr en filtro F0515.dat : 0.016190135666639145\n",
            "900Myr en filtro F0378.dat : 0.016185497461270886\n",
            "900Myr en filtro F0861.dat : 0.032709477566892124\n",
            "900Myr en filtro uJAVA.dat : 0.03246936890160088\n",
            "900Myr en filtro F0660.dat : 0.016193656088777434\n"
          ]
        }
      ],
      "source": [
        "for lista in (Valores_convolucion_por_filtro):\n",
        "    #print(len(lista[1][0]),len(lista[1][1]))\n",
        "    print(lista[0],':',lista[1][2])"
      ]
    },
    {
      "cell_type": "code",
      "execution_count": null,
      "metadata": {
        "id": "byYeadj4t5cg"
      },
      "outputs": [],
      "source": [
        "#(Valores_convolucion_por_filtro)"
      ]
    },
    {
      "cell_type": "code",
      "execution_count": null,
      "metadata": {
        "id": "OrvBuyRKs7jb"
      },
      "outputs": [],
      "source": []
    }
  ],
  "metadata": {
    "colab": {
      "collapsed_sections": [],
      "provenance": [],
      "include_colab_link": true
    },
    "kernelspec": {
      "display_name": "Python 3 (ipykernel)",
      "language": "python",
      "name": "python3"
    },
    "language_info": {
      "codemirror_mode": {
        "name": "ipython",
        "version": 3
      },
      "file_extension": ".py",
      "mimetype": "text/x-python",
      "name": "python",
      "nbconvert_exporter": "python",
      "pygments_lexer": "ipython3",
      "version": "3.9.7"
    }
  },
  "nbformat": 4,
  "nbformat_minor": 0
}